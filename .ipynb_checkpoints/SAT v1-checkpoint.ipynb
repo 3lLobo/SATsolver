{
 "cells": [
  {
   "cell_type": "code",
   "execution_count": 1,
   "metadata": {},
   "outputs": [],
   "source": [
    "import numpy as np\n",
    "import pandas as pd\n",
    "from copy import deepcopy as copy"
   ]
  },
  {
   "cell_type": "code",
   "execution_count": 22,
   "metadata": {},
   "outputs": [
    {
     "name": "stdout",
     "output_type": "stream",
     "text": [
      "1\n"
     ]
    }
   ],
   "source": [
    "a = [[1,2,3],[4,5,6]]\n",
    "b = a \n",
    "t= copy(a)\n",
    "t[1][0]=15\n",
    "del a[0]\n",
    "t = \"104\"\n",
    "if \"0\" in t:\n",
    "    print(1)"
   ]
  },
  {
   "cell_type": "markdown",
   "metadata": {},
   "source": [
    "There are few ways we can encode the CNF variables and literals. \n",
    "1. Any variable as x (which is already given in the DIMACS) and positive literals as 2x and negative literals as 2x+1. Benefits: bitwise operations. Downsides: I stole it. \n",
    "2. List of tuples, where 0th element is the variable and 1st element is a binary variable that signifies if it's a positive or a negative. "
   ]
  },
  {
   "cell_type": "code",
   "execution_count": 33,
   "metadata": {},
   "outputs": [],
   "source": [
    "#clause representation\n",
    "clauses=[{1:0,2:1,3:0},[{4:1,2:0}]]\n",
    "#variable representation\n",
    "test_var = {1:[True, 0], 2: [False, 0,1,1], 3:[None, 0,1], 4:[None, 1,2,2] }\n",
    "\n",
    "def transform_dict(l):\n",
    "    new_dict = {}\n",
    "    for element in l:\n",
    "        if element[0]==\"0\": \n",
    "            break  \n",
    "        elif element[0] == \"-\":\n",
    "            key = int(element[1:])\n",
    "        else:\n",
    "            key = int(element)\n",
    "        new_dict[key]=[]\n",
    "    \n",
    "    for element in l:\n",
    "        if element[0]==\"0\": \n",
    "            break  \n",
    "        elif element[0] == \"-\":\n",
    "            new_dict[int(element[1:])].append(0)\n",
    "        else:\n",
    "            new_dict[int(element)].append(1)\n",
    "    \n",
    "    return new_dict\n",
    "\n",
    "def transform_list(l):\n",
    "    new_list = []\n",
    "    for element in l:\n",
    "        if element[0]==\"-\":\n",
    "            new_list.append([int(element[1:]), 0])\n",
    "        elif element[0]==\"0\": \n",
    "            continue  \n",
    "        else:\n",
    "            new_list.append([int(element[1:]), 1])\n",
    "    return new_list\n",
    "\n",
    "def read_dimac(file_name = \"data/sudoku-rules.txt\", num_var=1000, is_dict=True):\n",
    "    #read file\n",
    "    f = open(file_name, \"r\")\n",
    "    lines = f.readlines()\n",
    "    clauses={}\n",
    "    #generate variables\n",
    "    variables = {i: [None] for  i in range(100, num_var) if (\"0\" not in str(i)) }\n",
    "\n",
    "    #for each clause\n",
    "    for i, line in enumerate(lines):\n",
    "        if i == 0:\n",
    "            continue\n",
    "        if is_dict:\n",
    "            clause = transform_dict(line.split())\n",
    "            clauses[int(i+2)] = clause\n",
    "            for key in clause.keys():\n",
    "                variables[key].append(i+2)\n",
    "        else:\n",
    "            clause = transform_list(line.split())\n",
    "            clauses[i+2] = clause\n",
    "            for element in clause:\n",
    "                \n",
    "                variables[element[0]].append(i+2)\n",
    "    return clauses, variables\n",
    "\n",
    "clauses, variables =read_dimac(is_dict=True)                       \n",
    "clauses_example, variables_example =read_dimac(file_name = \"data/sudoku-example.txt\", is_dict=True)  \n",
    "\n",
    "\n",
    "def merge (variables_1, variables_2, clauses_1, clauses_2):\n",
    "    len_1 = len(clauses_1)\n",
    "    clauses_2_new = {}\n",
    "    for idx, clause in clauses_2.items():\n",
    "        idx_new = idx+len_1\n",
    "        clauses_1[idx_new] = clause\n",
    "        for variable in clause:\n",
    "            variables_1[variable].append(idx_new)\n",
    "        \n",
    "    return variables_1, clauses_1\n",
    "    print(clauses_2)\n",
    "   # print(list(map(len,[variables_1, variables_2, clauses_1, clauses_2 ])))\n",
    "\n",
    "clauses, variables =read_dimac(is_dict=True)                       \n",
    "clauses_example, variables_example =read_dimac(file_name = \"data/sudoku-example.txt\", is_dict=True)  \n",
    "\n",
    "variables, clauses = merge( variables,  variables_example, clauses, clauses_example)\n",
    "\n"
   ]
  },
  {
   "cell_type": "code",
   "execution_count": 4,
   "metadata": {},
   "outputs": [
    {
     "data": {
      "text/plain": [
       "({0: {1: [0], 2: [1], 3: [0]}},\n",
       " {1: [None, 0], 2: [None, 0], 3: [None, 0], 4: [None]})"
      ]
     },
     "execution_count": 4,
     "metadata": {},
     "output_type": "execute_result"
    }
   ],
   "source": [
    "def remove_tautology(clauses, variables):\n",
    "    # for each variable\n",
    "    for var_name, var_idx in variables.items():\n",
    "        # check if variable has double occurance in any clause\n",
    "        duplicates = set([x for x in var_idx[1:] if var_idx[1:].count(x) > 1])\n",
    "        #if not, continue\n",
    "        if len(duplicates) == 0:\n",
    "            continue\n",
    "        #for each clause where variable occurs twice\n",
    "        for idx in duplicates:\n",
    "            is_break = False\n",
    "            #for each literal of that variable in the clause\n",
    "            for literal_i in  clauses[idx][var_name]:\n",
    "                #double_break\n",
    "                if is_break:\n",
    "                    break\n",
    "                #for every other literal\n",
    "                for literal_j in clauses[idx][var_name]:\n",
    "                    #if there is a tautology\n",
    "                    if literal_i != literal_j:\n",
    "                        #remove this clause\n",
    "                        del clauses[idx]\n",
    "                        #removing index of this clause from variables\n",
    "                        for var_name_2, var_idx_2 in variables.items():\n",
    "                            new_var = [var_idx_2[0]] + [x for x in var_idx_2[1:] if x != idx]\n",
    "                            variables[var_name_2] = new_var\n",
    "                        \n",
    "                        #double break\n",
    "                        is_break = True\n",
    "                        break\n",
    "    return clauses, variables\n",
    "            #print(idx,var_name)\n",
    "            #print(clauses[idx][var_name])\n",
    "\n",
    "test_var = {1:[None, 0], 2: [None, 0,1,1], 3:[None, 0,1], 4:[None, 1,2,2] }\n",
    "test_clauses = {0:{1:[0],2:[1],3:[0]},1:{4:[1],2:[0,1], 3:[1]},2:{4:[0,1]}}\n",
    "remove_tautology(test_clauses, test_var)\n"
   ]
  },
  {
   "cell_type": "code",
   "execution_count": 5,
   "metadata": {},
   "outputs": [
    {
     "ename": "SyntaxError",
     "evalue": "invalid syntax (<ipython-input-5-0130c5ce3123>, line 14)",
     "output_type": "error",
     "traceback": [
      "\u001b[0;36m  File \u001b[0;32m\"<ipython-input-5-0130c5ce3123>\"\u001b[0;36m, line \u001b[0;32m14\u001b[0m\n\u001b[0;31m    if secndvar == #check if it is already assigned:\u001b[0m\n\u001b[0m                                                    ^\u001b[0m\n\u001b[0;31mSyntaxError\u001b[0m\u001b[0;31m:\u001b[0m invalid syntax\n"
     ]
    }
   ],
   "source": [
    "# remove unit clause\n",
    "\n",
    "def remove_unit(var):\n",
    "    idx = variables[var]\n",
    "    sent = idx[0]\n",
    "    idx = idx[1:]\n",
    "    changed_var = []\n",
    "    for n in idx:\n",
    "        cl = clauses[n]\n",
    "        if sent and cl[var]==0 and len(clauses[n])==2:\n",
    "            #set second variable to False\n",
    "            for x in clauses[n]:\n",
    "                secndvar = x\n",
    "            if secndvar == #check if it is already assigned:\n",
    "                raise #error msg for inconsistency\n",
    "                break\n",
    "            variables[secndvar] #how can we set it to False???\n",
    "            #track variable to run this again on it\n",
    "            changed_var.append(secndvar)\n",
    "            del clauses[n]\n",
    "            \n",
    "        if sent and cl[var]==1:\n",
    "            del clauses[n]\n",
    "            \n",
    "        if not sent and cl[var]==0:\n",
    "            del clauses[n]\n",
    "        \n",
    "        if not sent and cl[var]==1 and len(clauses[n])==2:\n",
    "            # same as first if statement\n",
    "            \n",
    "        if not sent and cl[var]==1 and len(clauses[n])>2:\n",
    "            cl_sent = False\n",
    "            for x in cl:\n",
    "                x_sent = variables[x]\n",
    "                x_sent = xsent[0]\n",
    "                if cl[x] == 1 and x_sent or cl[x] == 0 and not x_sent:\n",
    "                    cl_sent = True\n",
    "            if cl_sent:\n",
    "                del clauses[n]\n",
    "                \n",
    "        if sent and cl[var]==0 and len(clauses[n])>2:\n",
    "            cl_sent = False\n",
    "            for x in cl:\n",
    "                x_sent = variables[x]\n",
    "                x_sent = xsent[0]\n",
    "                if cl[x] == 1 and x_sent or cl[x] == 0 and not x_sent:\n",
    "                    cl_sent = True\n",
    "            if cl_sent:\n",
    "                del clauses[n]\n",
    "            \n",
    "            \n",
    "            "
   ]
  },
  {
   "cell_type": "code",
   "execution_count": 13,
   "metadata": {},
   "outputs": [
    {
     "data": {
      "text/plain": [
       "({0: {1: [0], 2: [1], 3: [0]}, 3: {1: [0]}},\n",
       " {1: [None, 0, 3], 2: [None, 0], 3: [None, 0], 4: [True]},\n",
       " False)"
      ]
     },
     "execution_count": 13,
     "metadata": {},
     "output_type": "execute_result"
    }
   ],
   "source": [
    "def delete_clause(idx, clauses, variables):\n",
    "    \n",
    "    #remove the clause from mentions in all variables\n",
    "    for variable in clauses[idx]:\n",
    "        new_var = [variables[variable][0]] + [x for x in variables[variable][1:] if x!=idx]\n",
    "        variables[variable] = new_var\n",
    "    #delete the clause\n",
    "    del clauses[idx]\n",
    "    \n",
    "    return clauses, variables\n",
    "\n",
    "\n",
    "def belief_propogation(variable, clauses, variables):\n",
    "    truth_value = variables[variable][0]\n",
    "    \n",
    "    for clause in variables[variable][1:]:\n",
    "        if truth_value == clauses[clause][variable][0]:\n",
    "            clauses, variables = delete_clause(clause, clauses, variables)\n",
    "        else:\n",
    "            del clauses[clause][variable]\n",
    "    return clauses, variables\n",
    "    \n",
    "\n",
    "def unit_check(clauses, variables):\n",
    "    \n",
    "    generator = ( (idx, clause) for (idx, clause) in clauses.items() )\n",
    "    empty = True\n",
    "    for idx, clause in  generator:\n",
    "        \n",
    "        if len(clause) == 1:\n",
    "            variable = list(clause.keys())[0]\n",
    "            literal = list(clause.values())[0][0]\n",
    "            if literal:\n",
    "                variables[variable][0] = True  \n",
    "                clauses, variables = delete_clause(idx, clauses, variables)\n",
    "                clauses, variables = belief_propogation(variable, clauses, variables)\n",
    "                empty = False\n",
    "                break\n",
    "            else:\n",
    "                variables[variable][0] = False  \n",
    "                clauses, variables = delete_clause(idx, clauses, variables)\n",
    "                clauses, variables = belief_propogation(variable, clauses, variables)\n",
    "                empty = False\n",
    "                break\n",
    "               \n",
    "                \n",
    "                \n",
    "            \n",
    "    return clauses, variables, empty\n",
    "                \n",
    "            \n",
    "test_var = {1:[None, 0, 3], 2: [None, 0,1,1], 3:[None, 0,1], 4:[None, 1,2,2] }\n",
    "test_clauses = {0:{1:[0],2:[1],3:[0]},1:{4:[1],2:[0,1], 3:[1]},2:{4:[1]}, 3:{1:[0]}}\n",
    "unit_check(test_clauses, test_var)\n"
   ]
  },
  {
   "cell_type": "code",
   "execution_count": 7,
   "metadata": {},
   "outputs": [],
   "source": [
    "def check_for_empty_clause(clauses):\n",
    "    for clause in clauses.values():\n",
    "        if len(clause) == 0:\n",
    "            return True\n",
    "    return False\n",
    "def check_emptiness(clauses):\n",
    "    if len(clauses) == 0:\n",
    "        return True\n",
    "    return False"
   ]
  },
  {
   "cell_type": "code",
   "execution_count": 14,
   "metadata": {},
   "outputs": [
    {
     "name": "stdout",
     "output_type": "stream",
     "text": [
      "0\n",
      "0\n",
      "Empty conjunction of  clauses\n",
      "TRUE\n"
     ]
    },
    {
     "data": {
      "text/plain": [
       "(True, {1: [False], 2: [None], 3: [True], 4: [True, 1]}, {})"
      ]
     },
     "execution_count": 14,
     "metadata": {},
     "output_type": "execute_result"
    }
   ],
   "source": [
    "#remove tautology\n",
    "clauses, variables = remove_tautology(clauses, variables)\n",
    "def dpll(clauses, variables):\n",
    "    while True:\n",
    "        #simplification round\n",
    "        \n",
    "        while True:\n",
    "            #simplify\n",
    "            \n",
    "            clauses, variables, empty = unit_check(clauses, variables)\n",
    "            \n",
    "            if empty:\n",
    "                break\n",
    "        print(0)    \n",
    "        if check_for_empty_clause(clauses):\n",
    "            print(\"Empty clause\")\n",
    "            return False, variables, clauses\n",
    "            \n",
    "        if check_emptiness(clauses):\n",
    "            print(\"Empty conjunction of  clauses\")\n",
    "            return True, variables, clauses\n",
    "            \n",
    "            \n",
    "        #split randomly for now\n",
    "        if heuristic_1:\n",
    "            variable, counter = heuristic(clauses, variables, counter) #np.random.choice([key for (key, value) in variables.items() if value[0]==None])\n",
    "        \n",
    "        #copy variables and clauses\n",
    "        variables_new, clauses_new = copy(variables), copy(clauses)\n",
    "        #set variable to True\n",
    "        variables_new[variable][0] = True\n",
    "        clauses_new, variables_new  = belief_propogation(variable, clauses_new, variables_new)\n",
    "        is_true, variables_new, clauses_new = dpll(clauses_new, variables_new)\n",
    "        if is_true:\n",
    "            print(\"TRUE\")\n",
    "            return True, variables_new, clauses_new\n",
    "        else:\n",
    "            \n",
    "            print(1)\n",
    "            variables[variable][0] = False\n",
    "            clauses, variables = belief_propogation(variable, clauses, variables)\n",
    "            is_true, variables, clauses = dpll(clauses, variables)\n",
    "            print(\"SAT\")\n",
    "            return is_true, variables, clauses\n",
    "            \n",
    "       \n",
    "    print(\"NOT SAT\")\n",
    "    return False\n",
    "\n",
    "test_var = {1:[None, 0, 3], 2: [None, 0,1], 3:[None, 0,1], 4:[None, 1,2,2] }\n",
    "test_clauses = {0:{1:[0],2:[1],3:[0]},1:{4:[0],2:[0],3:[1]},2:{4:[1]}, 3:{1:[0]}}\n",
    "#test_clauses, test_var = remove_tautology(test_clauses, test_var)\n",
    "test_clauses, test_var = remove_tautology(test_clauses, test_var)\n",
    "dpll(test_clauses, test_var )\n"
   ]
  },
  {
   "cell_type": "code",
   "execution_count": 39,
   "metadata": {},
   "outputs": [
    {
     "name": "stdout",
     "output_type": "stream",
     "text": [
      "0\n",
      "0\n",
      "0\n",
      "0\n",
      "Empty clause\n",
      "1\n",
      "0\n",
      "0\n",
      "0\n",
      "0\n",
      "0\n",
      "0\n",
      "0\n",
      "Empty conjunction of  clauses\n",
      "TRUE\n",
      "TRUE\n",
      "TRUE\n",
      "TRUE\n",
      "TRUE\n",
      "TRUE\n",
      "SAT\n",
      "TRUE\n",
      "TRUE\n"
     ]
    }
   ],
   "source": [
    "np.random.seed(10312343)\n",
    "clauses, variables =read_dimac(is_dict=True)                       \n",
    "clauses_example, variables_example =read_dimac(file_name = \"data/sudoku-example.txt\", is_dict=True)  \n",
    "variables, clauses = merge( variables,  variables_example, clauses, clauses_example)\n",
    "clauses, variables = remove_tautology(clauses, variables)\n",
    "t, variables, clauses = dpll(clauses, variables )\n"
   ]
  },
  {
   "cell_type": "code",
   "execution_count": 10,
   "metadata": {},
   "outputs": [],
   "source": [
    "#variables with empty clauses\n",
    "keys=[]\n",
    "#for each clause\n",
    "for key, value in clauses.items():\n",
    "    #if clause is empty\n",
    "    if len(value) == 0:\n",
    "        #append this clause\n",
    "        keys.append(key)\n",
    "#for each variable\n",
    "for variable, clauses_idx in variables.items():\n",
    "    for clause in clauses_idx:\n",
    "        if clause in keys:\n",
    "            print(variables[variable])\n"
   ]
  },
  {
   "cell_type": "code",
   "execution_count": 28,
   "metadata": {},
   "outputs": [
    {
     "data": {
      "text/plain": [
       "0"
      ]
     },
     "execution_count": 28,
     "metadata": {},
     "output_type": "execute_result"
    }
   ],
   "source": [
    "len(clauses)\n"
   ]
  },
  {
   "cell_type": "code",
   "execution_count": 41,
   "metadata": {},
   "outputs": [
    {
     "name": "stdout",
     "output_type": "stream",
     "text": [
      "112\n",
      "123\n",
      "134\n",
      "141\n",
      "158\n",
      "169\n",
      "175\n",
      "187\n",
      "196\n",
      "217\n",
      "225\n",
      "231\n",
      "246\n",
      "253\n",
      "264\n",
      "272\n",
      "288\n",
      "299\n",
      "318\n",
      "326\n",
      "339\n",
      "345\n",
      "352\n",
      "367\n",
      "374\n",
      "383\n",
      "391\n",
      "419\n",
      "422\n",
      "438\n",
      "444\n",
      "457\n",
      "465\n",
      "476\n",
      "481\n",
      "493\n",
      "513\n",
      "521\n",
      "537\n",
      "542\n",
      "559\n",
      "566\n",
      "578\n",
      "585\n",
      "594\n",
      "615\n",
      "624\n",
      "636\n",
      "643\n",
      "651\n",
      "668\n",
      "677\n",
      "689\n",
      "692\n",
      "716\n",
      "727\n",
      "732\n",
      "749\n",
      "755\n",
      "763\n",
      "771\n",
      "784\n",
      "798\n",
      "811\n",
      "828\n",
      "833\n",
      "847\n",
      "854\n",
      "862\n",
      "879\n",
      "886\n",
      "895\n",
      "914\n",
      "929\n",
      "935\n",
      "948\n",
      "956\n",
      "961\n",
      "973\n",
      "982\n",
      "997\n"
     ]
    },
    {
     "data": {
      "text/plain": [
       "81"
      ]
     },
     "execution_count": 41,
     "metadata": {},
     "output_type": "execute_result"
    }
   ],
   "source": [
    "#check for number of trues\n",
    "\n",
    "\n",
    "summ=0\n",
    "for key, var in variables.items():\n",
    "    if var[0]==True:\n",
    "        print(key)\n",
    "        summ+=1\n",
    "summ\n"
   ]
  },
  {
   "cell_type": "code",
   "execution_count": null,
   "metadata": {},
   "outputs": [],
   "source": []
  },
  {
   "cell_type": "code",
   "execution_count": null,
   "metadata": {},
   "outputs": [],
   "source": [
    "y_del = 2/7 - 5/16\n",
    "x_del = 2/7 - 3/8\n",
    "np.arctan2(y_del, x_del)\n",
    "np.linalg.norm([x_del,y_del])"
   ]
  },
  {
   "cell_type": "code",
   "execution_count": null,
   "metadata": {},
   "outputs": [],
   "source": [
    "y_del = 1/3 - 5/16\n",
    "x_del = 1/3 - 3/8\n",
    "np.linalg.norm([x_del,y_del])"
   ]
  },
  {
   "cell_type": "code",
   "execution_count": null,
   "metadata": {},
   "outputs": [],
   "source": [
    "#object A\n",
    "X = 0.0049\n",
    "Y = 0.323\n",
    "Z = 0.272\n",
    "x_a = X / (X + Y + Z)\n",
    "y_a = Y / (X + Y + Z)\n",
    "x_a, y_a"
   ]
  },
  {
   "cell_type": "code",
   "execution_count": null,
   "metadata": {},
   "outputs": [],
   "source": [
    "#object B\n",
    "X = 0.9163\n",
    "Y = 0.87\n",
    "Z = 0.0017\n",
    "x_b = X / (X + Y + Z)\n",
    "y_b = Y / (X + Y + Z)\n",
    "x_b, y_b"
   ]
  },
  {
   "cell_type": "code",
   "execution_count": null,
   "metadata": {},
   "outputs": [],
   "source": [
    "#object C\n",
    "X = 0.0049 + 0.9163\n",
    "Y = 0.323 + 0.87\n",
    "Z = 0.272 + 0.0017\n",
    "x_c = X / (X + Y + Z)\n",
    "y_c = Y / (X + Y + Z)\n",
    "x_c, y_c"
   ]
  },
  {
   "cell_type": "code",
   "execution_count": null,
   "metadata": {},
   "outputs": [],
   "source": [
    "#lamp L t\n",
    "X = 98.04\n",
    "Y = 100\n",
    "Z = 118.12\n",
    "x_l = X / (X + Y + Z)\n",
    "y_l = Y / (X + Y + Z)\n",
    "x_l, y_l"
   ]
  },
  {
   "cell_type": "code",
   "execution_count": null,
   "metadata": {},
   "outputs": [],
   "source": [
    "def hue(color, white):\n",
    "    delta = color - white\n",
    "    return np.arctan2(delta[1], delta[0])\n",
    "hue(np.array([x_c,y_c]), np.array([x_l,y_l]))"
   ]
  },
  {
   "cell_type": "code",
   "execution_count": null,
   "metadata": {},
   "outputs": [],
   "source": [
    "def saturation(color, white):\n",
    "    return np.linalg.norm(color - white)\n",
    "white = np.array([x_l,y_l])\n",
    "s_a = saturation(np.array([x_a,y_a]), white)\n",
    "s_b = saturation(np.array([x_b,y_b]), white)\n",
    "s_c = saturation(np.array([x_c,y_c]), white)\n",
    "print(s_a, s_b, s_c)"
   ]
  }
 ],
 "metadata": {
  "kernelspec": {
   "display_name": "Python 3",
   "language": "python",
   "name": "python3"
  },
  "language_info": {
   "codemirror_mode": {
    "name": "ipython",
    "version": 3
   },
   "file_extension": ".py",
   "mimetype": "text/x-python",
   "name": "python",
   "nbconvert_exporter": "python",
   "pygments_lexer": "ipython3",
   "version": "3.6.0"
  }
 },
 "nbformat": 4,
 "nbformat_minor": 2
}
