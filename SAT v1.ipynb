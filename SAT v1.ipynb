{
 "cells": [
  {
   "cell_type": "code",
   "execution_count": null,
   "metadata": {},
   "outputs": [],
   "source": [
    "import numpy as np\n",
    "import pandas as pd\n"
   ]
  },
  {
   "cell_type": "markdown",
   "metadata": {},
   "source": [
    "There are few ways we can encode the CNF variables and literals. \n",
    "1. Any variable as x (which is already given in the DIMACS) and positive literals as 2x and negative literals as 2x+1. Benefits: bitwise operations. Downsides: I stole it. \n",
    "2. List of tuples, where 0th element is the variable and 1st element is a binary variable that signifies if it's a positive or a negative. "
   ]
  },
  {
   "cell_type": "code",
   "execution_count": 508,
   "metadata": {},
   "outputs": [],
   "source": [
    "#clause representation\n",
    "clauses=[{1:0,2:1,3:0},[{4:1,2:0}]]\n",
    "#variable representation\n",
    "test_var = {1:[True, 0], 2: [False, 0,1,1], 3:[None, 0,1], 4:[None, 1,2,2] }\n",
    "\n",
    "def transform_dict(l):\n",
    "    new_dict = {}\n",
    "    for element in l:\n",
    "        if element[0]==\"0\": \n",
    "            break  \n",
    "        elif element[0] == \"-\":\n",
    "            key = int(element[1:])\n",
    "        else:\n",
    "            key = int(element)\n",
    "        new_dict[key]=[]\n",
    "    \n",
    "    for element in l:\n",
    "        if element[0]==\"0\": \n",
    "            break  \n",
    "        elif element[0] == \"-\":\n",
    "            new_dict[int(element[1:])].append(0)\n",
    "        else:\n",
    "            new_dict[int(element)].append(1)\n",
    "    \n",
    "    return new_dict\n",
    "\n",
    "def transform_list(l):\n",
    "    new_list = []\n",
    "    for element in l:\n",
    "        if element[0]==\"-\":\n",
    "            new_list.append([int(element[1:]), 0])\n",
    "        elif element[0]==\"0\": \n",
    "            continue  \n",
    "        else:\n",
    "            new_list.append([int(element[1:]), 1])\n",
    "    return new_list\n",
    "\n",
    "def read_dimac(file_name = \"data/sudoku-rules.txt\", num_var=1000, is_dict=True):\n",
    "    #read file\n",
    "    f = open(file_name, \"r\")\n",
    "    lines = f.readlines()\n",
    "    clauses={}\n",
    "    #generate variables\n",
    "    variables = {i: [None] for  i in range(num_var)}\n",
    "    #for each clause\n",
    "    for i, line in enumerate(lines):\n",
    "        if i==0:\n",
    "            continue\n",
    "        \n",
    "        if is_dict:\n",
    "            clause = transform_dict(line.split())\n",
    "            clauses[i] = clause\n",
    "            for key in clause.keys():\n",
    "                variables[key].append(i)\n",
    "        else:\n",
    "            clause = transform_list(line.split())\n",
    "            clauses[i] = clause\n",
    "            for element in clause:\n",
    "                \n",
    "                variables[element[0]].append(i)\n",
    "    return clauses, variables\n",
    "\n",
    "clauses, variables =read_dimac(is_dict=True)                       \n",
    "clauses_example, variables_example =read_dimac(file_name = \"data/sudoku-example.txt\", is_dict=True)  \n",
    "\n",
    "\n",
    "def merge (variables_1, variables_2, clauses_1, clauses_2):\n",
    "    len_1 = len(clauses_1)\n",
    "    clauses_2_new = {}\n",
    "    for idx, clause in clauses_2.items():\n",
    "        idx_new = idx+len_1\n",
    "        clauses_1[idx_new] = clause\n",
    "        for variable in clause:\n",
    "            variables_1[variable].append(idx_new)\n",
    "        \n",
    "    return variables_1, clauses_1\n",
    "    print(clauses_2)\n",
    "   # print(list(map(len,[variables_1, variables_2, clauses_1, clauses_2 ])))\n",
    "\n",
    "\n",
    "variables, clauses = merge( variables,  variables_example, clauses, clauses_example)\n",
    "\n"
   ]
  },
  {
   "cell_type": "code",
   "execution_count": 343,
   "metadata": {},
   "outputs": [
    {
     "data": {
      "text/plain": [
       "({0: {1: [0], 2: [1], 3: [0]}},\n",
       " {1: [None, 0], 2: [None, 0], 3: [None, 0], 4: [None]})"
      ]
     },
     "execution_count": 343,
     "metadata": {},
     "output_type": "execute_result"
    }
   ],
   "source": [
    "def remove_tautology(clauses, variables):\n",
    "    # for each variable\n",
    "    for var_name, var_idx in variables.items():\n",
    "        # check if variable has double occurance in any clause\n",
    "        duplicates = set([x for x in var_idx[1:] if var_idx[1:].count(x) > 1])\n",
    "        #if not, continue\n",
    "        if len(duplicates) == 0:\n",
    "            continue\n",
    "        #for each clause where variable occurs twice\n",
    "        for idx in duplicates:\n",
    "            is_break = False\n",
    "            #for each literal of that variable in the clause\n",
    "            for literal_i in  clauses[idx][var_name]:\n",
    "                #double_break\n",
    "                if is_break:\n",
    "                    break\n",
    "                #for every other literal\n",
    "                for literal_j in clauses[idx][var_name]:\n",
    "                    #if there is a tautology\n",
    "                    if literal_i != literal_j:\n",
    "                        #remove this clause\n",
    "                        del clauses[idx]\n",
    "                        #removing index of this clause from variables\n",
    "                        for var_name_2, var_idx_2 in variables.items():\n",
    "                            new_var = [var_idx_2[0]] + [x for x in var_idx_2[1:] if x != idx]\n",
    "                            variables[var_name_2] = new_var\n",
    "                        \n",
    "                        #double break\n",
    "                        is_break = True\n",
    "                        break\n",
    "    return clauses, variables\n",
    "            #print(idx,var_name)\n",
    "            #print(clauses[idx][var_name])\n",
    "\n",
    "test_var = {1:[None, 0], 2: [None, 0,1,1], 3:[None, 0,1], 4:[None, 1,2,2] }\n",
    "test_clauses = {0:{1:[0],2:[1],3:[0]},1:{4:[1],2:[0,1], 3:[1]},2:{4:[0,1]}}\n",
    "remove_tautology(test_clauses, test_var)\n"
   ]
  },
  {
   "cell_type": "code",
   "execution_count": 165,
   "metadata": {},
   "outputs": [
    {
     "ename": "SyntaxError",
     "evalue": "invalid syntax (<ipython-input-165-0130c5ce3123>, line 14)",
     "output_type": "error",
     "traceback": [
      "\u001b[0;36m  File \u001b[0;32m\"<ipython-input-165-0130c5ce3123>\"\u001b[0;36m, line \u001b[0;32m14\u001b[0m\n\u001b[0;31m    if secndvar == #check if it is already assigned:\u001b[0m\n\u001b[0m                                                    ^\u001b[0m\n\u001b[0;31mSyntaxError\u001b[0m\u001b[0;31m:\u001b[0m invalid syntax\n"
     ]
    }
   ],
   "source": [
    "# remove unit clause\n",
    "\n",
    "def remove_unit(var):\n",
    "    idx = variables[var]\n",
    "    sent = idx[0]\n",
    "    idx = idx[1:]\n",
    "    changed_var = []\n",
    "    for n in idx:\n",
    "        cl = clauses[n]\n",
    "        if sent and cl[var]==0 and len(clauses[n])==2:\n",
    "            #set second variable to False\n",
    "            for x in clauses[n]:\n",
    "                secndvar = x\n",
    "            if secndvar == #check if it is already assigned:\n",
    "                raise #error msg for inconsistency\n",
    "                break\n",
    "            variables[secndvar] #how can we set it to False???\n",
    "            #track variable to run this again on it\n",
    "            changed_var.append(secndvar)\n",
    "            del clauses[n]\n",
    "            \n",
    "        if sent and cl[var]==1:\n",
    "            del clauses[n]\n",
    "            \n",
    "        if not sent and cl[var]==0:\n",
    "            del clauses[n]\n",
    "        \n",
    "        if not sent and cl[var]==1 and len(clauses[n])==2:\n",
    "            # same as first if statement\n",
    "            \n",
    "        if not sent and cl[var]==1 and len(clauses[n])>2:\n",
    "            cl_sent = False\n",
    "            for x in cl:\n",
    "                x_sent = variables[x]\n",
    "                x_sent = xsent[0]\n",
    "                if cl[x] == 1 and x_sent or cl[x] == 0 and not x_sent:\n",
    "                    cl_sent = True\n",
    "            if cl_sent:\n",
    "                del clauses[n]\n",
    "                \n",
    "        if sent and cl[var]==0 and len(clauses[n])>2:\n",
    "            cl_sent = False\n",
    "            for x in cl:\n",
    "                x_sent = variables[x]\n",
    "                x_sent = xsent[0]\n",
    "                if cl[x] == 1 and x_sent or cl[x] == 0 and not x_sent:\n",
    "                    cl_sent = True\n",
    "            if cl_sent:\n",
    "                del clauses[n]\n",
    "            \n",
    "            \n",
    "            "
   ]
  },
  {
   "cell_type": "code",
   "execution_count": 460,
   "metadata": {},
   "outputs": [
    {
     "data": {
      "text/plain": [
       "({0: {1: [0], 2: [1], 3: [0]}, 3: {1: [0]}},\n",
       " {1: [None, 0, 3], 2: [None, 0], 3: [None, 0], 4: [True]},\n",
       " {1: {1: {2: [0, 1], 3: [1], 4: [1]}}},\n",
       " False,\n",
       " 1)"
      ]
     },
     "execution_count": 460,
     "metadata": {},
     "output_type": "execute_result"
    }
   ],
   "source": [
    "def delete_clause(idx, clauses, variables, deleted_clauses, i):\n",
    "    #append the clause to be deleted\n",
    "    deleted_clauses[i] = {idx: clauses[idx]}\n",
    "    i+=1\n",
    "    #remove the clause from mentions in all variables\n",
    "    for variable in clauses[idx]:\n",
    "        new_var = [variables[variable][0]] + [x for x in variables[variable][1:] if x!=idx]\n",
    "        variables[variable] = new_var\n",
    "    #delete the clause\n",
    "    del clauses[idx]\n",
    "    \n",
    "    return clauses, variables, deleted_clauses, i\n",
    "\n",
    "\n",
    "def belief_propogation(variable, clauses, variables, deleted_clauses, i):\n",
    "    truth_value = variables[variable][0]\n",
    "    \n",
    "    for clause in variables[variable][1:]:\n",
    "        #print(clause, variable, truth_value)\n",
    "        if truth_value == clauses[clause][variable][0]:\n",
    "            #print(i, clause)\n",
    "            \n",
    "            clauses, variables, deleted_clauses, i = delete_clause(clause, clauses, variables, deleted_clauses, i)\n",
    "        else:\n",
    "            del clauses[clause][variable]\n",
    "    return clauses, variables, deleted_clauses, i\n",
    "    \n",
    "\n",
    "def unit_check(clauses, variables, deleted_clauses):\n",
    "    i = len(deleted_clauses)\n",
    "    generator = ( (idx, clause) for (idx, clause) in clauses.items() )\n",
    "    empty = True\n",
    "    for idx, clause in  generator:\n",
    "        \n",
    "        if len(clause) == 1:\n",
    "            \n",
    "            variable = list(clause.keys())[0]\n",
    "            literal = list(clause.values())[0][0]\n",
    "            \n",
    "            if literal == 1:\n",
    "                variables[variable][0] = True\n",
    "                i+=1\n",
    "                delete_clause(idx, clauses, variables, deleted_clauses, i)\n",
    "                belief_propogation(variable, clauses, variables, deleted_clauses, i)\n",
    "                empty = False\n",
    "               \n",
    "                break\n",
    "                \n",
    "            else:\n",
    "                variables[variable][0] = False\n",
    "                i+=1\n",
    "                delete_clause(idx, clauses, variables, deleted_clauses, i)\n",
    "                belief_propogation(variable, clauses, variables, deleted_clauses, i)\n",
    "                empty = False\n",
    "                \n",
    "                break\n",
    "                \n",
    "    return clauses, variables, deleted_clauses, empty, i\n",
    "                \n",
    "            \n",
    "test_var = {1:[None, 0, 3], 2: [None, 0,1,1], 3:[None, 0,1], 4:[None, 1,2,2] }\n",
    "test_clauses = {0:{1:[0],2:[1],3:[0]},1:{4:[1],2:[0,1], 3:[1]},2:{4:[1]}, 3:{1:[0]}}\n",
    "unit_check(test_clauses, test_var, deleted_clauses = {})\n"
   ]
  },
  {
   "cell_type": "code",
   "execution_count": 344,
   "metadata": {},
   "outputs": [],
   "source": [
    "def check_for_empty_clause(clauses):\n",
    "    for clause in clauses.values():\n",
    "        if len(clause) == 0:\n",
    "            return True\n",
    "    return False\n",
    "def check_emptiness(clauses):\n",
    "    if len(clauses) == 0:\n",
    "        return True\n",
    "    else:\n",
    "        return False"
   ]
  },
  {
   "cell_type": "code",
   "execution_count": 510,
   "metadata": {},
   "outputs": [
    {
     "name": "stdout",
     "output_type": "stream",
     "text": [
      "True\n"
     ]
    },
    {
     "data": {
      "text/plain": [
       "('SAT', {1: [False], 2: [None], 3: [True], 4: [True, 1]})"
      ]
     },
     "execution_count": 510,
     "metadata": {},
     "output_type": "execute_result"
    }
   ],
   "source": [
    "#remove tautology\n",
    "clauses, variables = remove_tautology(clauses, variables)\n",
    "def dpll(clauses, variables, deleted_clauses):\n",
    "    while True:\n",
    "        #simplification round\n",
    "        \n",
    "        while True:\n",
    "            #simplify\n",
    "\n",
    "            clauses, variables, deleted_clauses, empty, i = unit_check(clauses, variables, deleted_clauses)\n",
    "           \n",
    "            if empty:\n",
    "                break\n",
    "                \n",
    "        if check_for_empty_clause(clauses):\n",
    "            print(\"False\")\n",
    "            return False\n",
    "            break\n",
    "        if check_emptiness(clauses):\n",
    "            print(\"True\")\n",
    "            return \"SAT\", variables\n",
    "            break\n",
    "        #split randomely for now\n",
    "    \n",
    "        \n",
    "        variable = np.random.choice([key for (key, value) in variables.items() if value[0]==None])\n",
    "        \n",
    "        variables[variable][0] = True\n",
    "        belief_propogation(variable, clauses, variables, deleted_clauses, i)\n",
    "        is_true = dpll(clauses, variables, deleted_clauses)\n",
    "        if is_true:\n",
    "            return \"SAT\", variables\n",
    "        else:\n",
    "            variables[variable][0] = False\n",
    "            belief_propogation(variable, clauses, variables, deleted_clauses, i)\n",
    "            dpll(clauses, variables, deleted_clauses)\n",
    "            print(1)\n",
    "            return False\n",
    "            \n",
    "       \n",
    "    print(\"NOT SAT\")\n",
    "    return False\n",
    "\n",
    "test_var = {1:[None, 0, 3], 2: [None, 0,1], 3:[None, 0,1], 4:[None, 1,2,2] }\n",
    "test_clauses = {0:{1:[0],2:[1],3:[0]},1:{4:[0],2:[0],3:[1]},2:{4:[1]}, 3:{1:[0]}}\n",
    "#test_clauses, test_var = remove_tautology(test_clauses, test_var)\n",
    "test_clauses, test_var = remove_tautology(test_clauses, test_var)\n",
    "dpll(test_clauses, test_var , deleted_clauses = {})\n"
   ]
  },
  {
   "cell_type": "code",
   "execution_count": 511,
   "metadata": {},
   "outputs": [
    {
     "name": "stdout",
     "output_type": "stream",
     "text": [
      "True\n"
     ]
    }
   ],
   "source": [
    "t, variables = dpll(clauses, variables , deleted_clauses = {})"
   ]
  },
  {
   "cell_type": "code",
   "execution_count": 516,
   "metadata": {},
   "outputs": [
    {
     "data": {
      "text/plain": [
       "89"
      ]
     },
     "execution_count": 516,
     "metadata": {},
     "output_type": "execute_result"
    }
   ],
   "source": [
    "summ=0\n",
    "for var in variables.values():\n",
    "    if var[0]==True:\n",
    "        summ+=1\n",
    "summ"
   ]
  }
 ],
 "metadata": {
  "kernelspec": {
   "display_name": "Python 3",
   "language": "python",
   "name": "python3"
  }
 },
 "nbformat": 4,
 "nbformat_minor": 2
}
