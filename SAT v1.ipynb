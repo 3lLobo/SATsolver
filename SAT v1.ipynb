{
 "cells": [
  {
   "cell_type": "code",
   "execution_count": 158,
   "metadata": {},
   "outputs": [],
   "source": [
    "import numpy as np\n",
    "import pandas as pd\n",
    "from copy import deepcopy as copy\n",
    "from collections import Counter\n",
    "import operator\n",
    "\n"
   ]
  },
  {
   "cell_type": "code",
   "execution_count": 231,
   "metadata": {},
   "outputs": [],
   "source": [
    "def sudoku_to_dimacs(file_name = \"data/1000_sudokus.txt\"):\n",
    "    f = open(file_name, \"r\")\n",
    "    lines = f.readlines()\n",
    "    total_dimacs = []\n",
    "    for i, sudoku in enumerate(lines):\n",
    "        dimacs_sudoku = []\n",
    "        for j, cell in enumerate(sudoku):\n",
    "            row, column = divmod(j, 9)\n",
    "            if cell==\".\" or cell == '\\n':\n",
    "                continue\n",
    "            else:\n",
    "                \n",
    "                dimacs_sudoku.append(str(row+1)+str(column+1)+str(cell))  \n",
    "        total_dimacs.append(dimacs_sudoku)\n",
    "    return total_dimacs\n",
    "            \n",
    "test_sudokus = sudoku_to_dimacs()\n"
   ]
  },
  {
   "cell_type": "code",
   "execution_count": 213,
   "metadata": {},
   "outputs": [
    {
     "data": {
      "text/plain": [
       "(1, 0)"
      ]
     },
     "execution_count": 213,
     "metadata": {},
     "output_type": "execute_result"
    }
   ],
   "source": [
    "divmod(9, 9)"
   ]
  },
  {
   "cell_type": "markdown",
   "metadata": {},
   "source": [
    "There are few ways we can encode the CNF variables and literals. \n",
    "1. Any variable as x (which is already given in the DIMACS) and positive literals as 2x and negative literals as 2x+1. Benefits: bitwise operations. Downsides: I stole it. \n",
    "2. List of tuples, where 0th element is the variable and 1st element is a binary variable that signifies if it's a positive or a negative. "
   ]
  },
  {
   "cell_type": "code",
   "execution_count": 314,
   "metadata": {},
   "outputs": [],
   "source": [
    "#clause representation\n",
    "clauses=[{1:0,2:1,3:0},[{4:1,2:0}]]\n",
    "#variable representation\n",
    "test_var = {1:[True, 0], 2: [False, 0,1,1], 3:[None, 0,1], 4:[None, 1,2,2] }\n",
    "\n",
    "def transform_dict(l):\n",
    "    new_dict = {}\n",
    "    for element in l:\n",
    "        if element[0]==\"0\": \n",
    "            break  \n",
    "        elif element[0] == \"-\":\n",
    "            key = int(element[1:])\n",
    "        else:\n",
    "            key = int(element)\n",
    "        new_dict[key]=[]\n",
    "    \n",
    "    for element in l:\n",
    "        if element[0]==\"0\": \n",
    "            break  \n",
    "        elif element[0] == \"-\":\n",
    "            new_dict[int(element[1:])].append(0)\n",
    "        else:\n",
    "            new_dict[int(element)].append(1)\n",
    "    \n",
    "    return new_dict\n",
    "\n",
    "\n",
    "\n",
    "def read_dimac(file_name = \"data/sudoku-rules.txt\", is_txt = True):\n",
    "    #read file\n",
    "    if is_txt:\n",
    "        f = open(file_name, \"r\")\n",
    "        lines = f.readlines()\n",
    "    else:\n",
    "        lines = file_name\n",
    "        \n",
    "    #generate variables\n",
    "    clauses={}\n",
    "    variables = {}\n",
    "\n",
    "    #for each clause\n",
    "    for i, line in enumerate(lines):\n",
    "        if is_txt:\n",
    "            if i == 0:\n",
    "                continue\n",
    "        \n",
    "        clause = transform_dict(line.split())\n",
    "        clauses[int(i+3)] = clause\n",
    "        for key in clause.keys():\n",
    "            try:\n",
    "                variables[key].append(i+3)\n",
    "            except:\n",
    "                variables[key] = [None]\n",
    "                variables[key].append(i+3)\n",
    "\n",
    "    return clauses, variables\n",
    "\n",
    "clauses, variables =read_dimac()                       \n",
    "clauses_example, variables_example =read_dimac(file_name = \"data/sudoku-example.txt\")  \n",
    "\n",
    "\n",
    "def merge (variables_1, variables_2, clauses_1, clauses_2):\n",
    "    len_1 = max(clauses_1)\n",
    "    clauses_2_new = {}\n",
    "    for idx, clause in clauses_2.items():\n",
    "        idx_new = idx+len_1\n",
    "        clauses_1[idx_new] = clause\n",
    "        for variable in clause:\n",
    "            variables_1[variable].append(idx_new)\n",
    "        \n",
    "    return variables_1, clauses_1\n",
    "    print(clauses_2)\n",
    "   # print(list(map(len,[variables_1, variables_2, clauses_1, clauses_2 ])))\n",
    "\n",
    "clauses, variables =read_dimac()                       \n",
    "clauses_example, variables_example =read_dimac(file_name = \"data/sudoku-example.txt\")  \n",
    "\n",
    "variables, clauses = merge( variables,  variables_example, clauses, clauses_example)\n",
    "\n"
   ]
  },
  {
   "cell_type": "code",
   "execution_count": 163,
   "metadata": {},
   "outputs": [
    {
     "data": {
      "text/plain": [
       "({0: {1: [0], 2: [1], 3: [0]}},\n",
       " {1: [None, 0], 2: [None, 0], 3: [None, 0], 4: [None]})"
      ]
     },
     "execution_count": 163,
     "metadata": {},
     "output_type": "execute_result"
    }
   ],
   "source": [
    "def remove_tautology(clauses, variables):\n",
    "    # for each variable\n",
    "    for var_name, var_idx in variables.items():\n",
    "        # check if variable has double occurance in any clause\n",
    "        duplicates = set([x for x in var_idx[1:] if var_idx[1:].count(x) > 1])\n",
    "        #if not, continue\n",
    "        if len(duplicates) == 0:\n",
    "            continue\n",
    "        #for each clause where variable occurs twice\n",
    "        for idx in duplicates:\n",
    "            is_break = False\n",
    "            #for each literal of that variable in the clause\n",
    "            for literal_i in  clauses[idx][var_name]:\n",
    "                #double_break\n",
    "                if is_break:\n",
    "                    break\n",
    "                #for every other literal\n",
    "                for literal_j in clauses[idx][var_name]:\n",
    "                    #if there is a tautology\n",
    "                    if literal_i != literal_j:\n",
    "                        #remove this clause\n",
    "                        del clauses[idx]\n",
    "                        #removing index of this clause from variables\n",
    "                        for var_name_2, var_idx_2 in variables.items():\n",
    "                            new_var = [var_idx_2[0]] + [x for x in var_idx_2[1:] if x != idx]\n",
    "                            variables[var_name_2] = new_var\n",
    "                        \n",
    "                        #double break\n",
    "                        is_break = True\n",
    "                        break\n",
    "    return clauses, variables\n",
    "            #print(idx,var_name)\n",
    "            #print(clauses[idx][var_name])\n",
    "\n",
    "test_var = {1:[None, 0], 2: [None, 0,1,1], 3:[None, 0,1], 4:[None, 1,2,2] }\n",
    "test_clauses = {0:{1:[0],2:[1],3:[0]},1:{4:[1],2:[0,1], 3:[1]},2:{4:[0,1]}}\n",
    "remove_tautology(test_clauses, test_var)\n"
   ]
  },
  {
   "cell_type": "code",
   "execution_count": 315,
   "metadata": {},
   "outputs": [
    {
     "data": {
      "text/plain": [
       "({0: {1: [0], 2: [1], 3: [0]}, 3: {1: [0]}},\n",
       " {1: [None, 0, 3], 2: [None, 0], 3: [None, 0], 4: [True]},\n",
       " False)"
      ]
     },
     "execution_count": 315,
     "metadata": {},
     "output_type": "execute_result"
    }
   ],
   "source": [
    "def delete_clause(idx, clauses, variables):\n",
    "    \n",
    "    #remove the clause from mentions in all variables\n",
    "    for variable in clauses[idx]:\n",
    "\n",
    "        new_var = [variables[variable][0]] + [x for x in variables[variable][1:] if x!=idx]\n",
    "        variables[variable] = new_var\n",
    "        \n",
    "    #delete the clause\n",
    "    del clauses[idx]\n",
    "   \n",
    "    return clauses, variables\n",
    "\n",
    "\n",
    "def belief_propogation(variable, clauses, variables):\n",
    "    truth_value = variables[variable][0]\n",
    "\n",
    "    for clause in variables[variable][1:]:\n",
    "        if truth_value == clauses[clause][variable][0]:\n",
    "            clauses, variables = delete_clause(clause, clauses, variables)\n",
    "        else:\n",
    "        \n",
    "            new_var = [variables[variable][0]] + [x for x in variables[variable][1:] if x!=clause]\n",
    "            variables[variable] = new_var\n",
    "            del clauses[clause][variable]\n",
    "    return clauses, variables\n",
    "    \n",
    "\n",
    "def unit_check(clauses, variables):\n",
    "    \n",
    "    generator = ( (idx, clause) for (idx, clause) in clauses.items() )\n",
    "    empty = True\n",
    "    for idx, clause in  generator:\n",
    "        \n",
    "        if len(clause) == 1:\n",
    "            variable = list(clause.keys())[0]\n",
    "            literal = list(clause.values())[0][0]\n",
    "            \n",
    "            if literal:\n",
    "                variables[variable][0] = True  \n",
    "                clauses, variables = delete_clause(idx, clauses, variables)\n",
    "                clauses, variables = belief_propogation(variable, clauses, variables)\n",
    "                empty = False\n",
    "                break\n",
    "            else:\n",
    "                variables[variable][0] = False  \n",
    "                clauses, variables = delete_clause(idx, clauses, variables)\n",
    "                clauses, variables = belief_propogation(variable, clauses, variables)\n",
    "                empty = False\n",
    "                break\n",
    "          \n",
    "                \n",
    "                \n",
    "            \n",
    "    return clauses, variables, empty\n",
    "                \n",
    "            \n",
    "test_var = {1:[None, 0, 3], 2: [None, 0,1,1], 3:[None, 0,1], 4:[None, 1,2,2] }\n",
    "test_clauses = {0:{1:[0],2:[1],3:[0]},1:{4:[1],2:[0,1], 3:[1]},2:{4:[1]}, 3:{1:[0]}}\n",
    "unit_check(test_clauses, test_var)\n"
   ]
  },
  {
   "cell_type": "code",
   "execution_count": 165,
   "metadata": {},
   "outputs": [],
   "source": [
    "def check_for_empty_clause(clauses):\n",
    "    for clause in clauses.values():\n",
    "        if len(clause) == 0:\n",
    "            return True\n",
    "    return False\n",
    "def check_emptiness(clauses):\n",
    "    if len(clauses) == 0:\n",
    "        return True\n",
    "    return False"
   ]
  },
  {
   "cell_type": "code",
   "execution_count": null,
   "metadata": {},
   "outputs": [],
   "source": [
    "# VIDS heuristic\n",
    "\n",
    "# TODO Initialize counter beforehand:\n",
    "# var_counter = Counter()\n",
    "\n",
    "def heu1(clauses, variables, var_counter):\n",
    "    alpha = 0.5\n",
    "    for key, value in variables.items():\n",
    "        if len(value[1:]) > 0:\n",
    "            var_counter[key] += len(value[1:]) *alpha\n",
    "    next_var = var_counter.most_common(1)[0][0] if var_counter else None\n",
    "    return next_var, var_counter\n",
    "            \n",
    "def jeroslow(clauses, variables):\n",
    "   \n",
    "    J = {key:0 for key in variables.keys()}\n",
    "    for variable_key, variable_clauses in variables.items():\n",
    "        for clause_idx in variable_clauses[1:]:\n",
    "            if clauses[clause_idx][variable_key][0] == 1:\n",
    "                \n",
    "                J[variable_key]+=len(clauses[clause_idx])\n",
    "   \n",
    "    #print( max(J.items(), key=operator.itemgetter(1))[0], J[ max(J.items(), key=operator.itemgetter(1))[0]])\n",
    "    return max(J.items(), key=operator.itemgetter(1))[0]\n",
    "\n",
    "def human(clauses, variables):\n",
    "    \n",
    "    #find the most full row or column\n",
    "    \n",
    "    matrix = np.zeros((10,10))\n",
    "    for i in range(1, 10): \n",
    "        for j in range(1, 10):\n",
    "            for z in range(1,10):\n",
    "                if variables[100*i+10*j+z][0]:\n",
    "                    matrix[i,j]+=1\n",
    "    \n",
    "    matrix = matrix[1:,1:]\n",
    "    \n",
    "    column = np.sum(matrix,0)\n",
    "    row = np.sum(matrix,1)\n",
    "    for typ in [row, column]:\n",
    "        for i, value in enumerate(typ):\n",
    "            if value == 9:\n",
    "                typ[i] = 0\n",
    "    \n",
    "\n",
    "    max_column = (np.max(column), np.argmax(column)+1)\n",
    "    max_row = (np.max(row), np.argmax(row)+1)\n",
    "    #change a random value in that row or column \n",
    "    if max_row[0] > max_column[0]:\n",
    "        possible_values = []\n",
    "        for col in range(1,10): \n",
    "            for val in range(1,10):\n",
    "                if variables[max_row[1]*100+col*10+val][0]==None:\n",
    "                    possible_values.append(max_row[1]*100+col*10+val)\n",
    "        \n",
    "        return np.random.choice(possible_values)\n",
    "    else: \n",
    "        possible_values = []\n",
    "        for row in range(1,10): \n",
    "            for val in range(1,10):\n",
    "                if variables[row*100+max_column[1]*10+val][0]==None:\n",
    "                    possible_values.append(row*100+max_column[1]*10+val)\n",
    "        \n",
    "        return np.random.choice(possible_values)\n",
    "    \n",
    "    \n",
    "   \n",
    "    \n",
    "    \n",
    "        \n",
    "       "
   ]
  },
  {
   "cell_type": "code",
   "execution_count": 384,
   "metadata": {},
   "outputs": [
    {
     "data": {
      "text/plain": [
       "(True, {1: [False], 2: [True], 3: [True], 4: [True]}, {}, [[1, 0]])"
      ]
     },
     "execution_count": 384,
     "metadata": {},
     "output_type": "execute_result"
    }
   ],
   "source": [
    "\n",
    "def dpll(clauses, variables, heuristic, metrics):\n",
    "    var_counter = Counter()\n",
    "    while True:\n",
    "        #simplification round\n",
    "        \n",
    "        while True:\n",
    "            #simplify\n",
    "            \n",
    "            clauses, variables, empty = unit_check(clauses, variables)\n",
    "            \n",
    "            if empty:\n",
    "                break\n",
    "        #print(0)    \n",
    "        if check_for_empty_clause(clauses):\n",
    "            #print(\"Empty clause\")\n",
    "            return False, variables, clauses, metrics\n",
    "            \n",
    "        if check_emptiness(clauses):\n",
    "            #print(\"Empty conjunction of  clauses\")\n",
    "            return True, variables, clauses, metrics\n",
    "            \n",
    "            \n",
    "        #split randomly for now\n",
    "        if heuristic == 0:\n",
    "            variable = np.random.choice([key for (key, value) in variables.items() if value[0]==None])\n",
    "        elif heuristic == 1:\n",
    "            variable, var_counter = heu1(clauses, variables, var_counter)\n",
    "        elif heuristic == 2:\n",
    "            \n",
    "            variable = human(clauses, variables)\n",
    "        \n",
    "        #copy variables and clauses\n",
    "        variables_new, clauses_new = copy(variables), copy(clauses)\n",
    "        unsat_clauses = len(clauses)\n",
    "        #metrics\n",
    "        if len(metrics) == 0: \n",
    "            metrics.append([len(clauses), 0])\n",
    "        else:\n",
    "            backtracks = metrics[-1][1]\n",
    "            metrics.append([len(clauses), backtracks])\n",
    "        #set variable to True\n",
    "        variables_new[variable][0] = True\n",
    "        clauses_new, variables_new  = belief_propogation(variable, clauses_new, variables_new)\n",
    "        is_true, variables_new, clauses_new, metrics = dpll(clauses_new, variables_new, heuristic, metrics)\n",
    "        if is_true:\n",
    "            #print(\"TRUE\")\n",
    "            return True, variables_new, clauses_new, metrics\n",
    "        else:\n",
    "            #metrics\n",
    "            backtracks = metrics[-1][1]\n",
    "            metrics.append([len(clauses), backtracks+1])\n",
    "            #print(1)\n",
    "            variables[variable][0] = False\n",
    "            clauses, variables = belief_propogation(variable, clauses, variables)\n",
    "            is_true, variables, clauses, metrics = dpll(clauses, variables, heuristic, metrics)\n",
    "            #print(\"SAT\")\n",
    "            return is_true, variables, clauses, metrics\n",
    "            \n",
    "       \n",
    "    #print(\"NOT SAT\")\n",
    "    return False\n",
    "\n",
    "test_var = {1:[None, 0, 3], 2: [None, 0,1], 3:[None, 0,1], 4:[None, 1,2,2] }\n",
    "test_clauses = {0:{1:[0],2:[1],3:[0]},1:{4:[0],2:[0],3:[1]},2:{4:[1]}, 3:{1:[0]}}\n",
    "#test_clauses, test_var = remove_tautology(test_clauses, test_var)\n",
    "test_clauses, test_var = remove_tautology(test_clauses, test_var)\n",
    "dpll(test_clauses, test_var, heuristic = 1 , metrics = [])\n"
   ]
  },
  {
   "cell_type": "code",
   "execution_count": 385,
   "metadata": {},
   "outputs": [],
   "source": [
    "np.random.seed(10312343)\n",
    "var_counter = Counter()\n",
    "clauses, variables =read_dimac()                       \n",
    "clauses_example, variables_example =read_dimac(file_name = \"data/sudoku-example.txt\")  \n",
    "variables, clauses = merge( variables,  variables_example, clauses, clauses_example)\n",
    "clauses, variables = remove_tautology(clauses, variables)\n",
    "t, variables, clauses, metrics = dpll(clauses, variables, 2 , metrics = [])\n",
    "# metrics are a list of tuples, where len of the list is number of splits, 0th element of the tuple is # of unsat and the 1st element is # of backtracks"
   ]
  },
  {
   "cell_type": "code",
   "execution_count": 171,
   "metadata": {},
   "outputs": [],
   "source": [
    "#variables with empty clauses\n",
    "keys=[]\n",
    "#for each clause\n",
    "for key, value in clauses.items():\n",
    "    #if clause is empty\n",
    "    if len(value) == 0:\n",
    "        #append this clause\n",
    "        keys.append(key)\n",
    "#for each variable\n",
    "for variable, clauses_idx in variables.items():\n",
    "    for clause in clauses_idx:\n",
    "        if clause in keys:\n",
    "            print(variables[variable])\n"
   ]
  },
  {
   "cell_type": "code",
   "execution_count": 172,
   "metadata": {},
   "outputs": [
    {
     "data": {
      "text/plain": [
       "0"
      ]
     },
     "execution_count": 172,
     "metadata": {},
     "output_type": "execute_result"
    }
   ],
   "source": [
    "len(clauses)\n"
   ]
  },
  {
   "cell_type": "code",
   "execution_count": 344,
   "metadata": {},
   "outputs": [
    {
     "name": "stdout",
     "output_type": "stream",
     "text": [
      "81\n"
     ]
    },
    {
     "data": {
      "text/plain": [
       "True"
      ]
     },
     "execution_count": 344,
     "metadata": {},
     "output_type": "execute_result"
    }
   ],
   "source": [
    "def check_sudoku(variables):\n",
    "    summ=0\n",
    "    for key, var in variables.items():\n",
    "        if var[0]==True:\n",
    "            summ+=1\n",
    "    if summ == 81:\n",
    "        return True\n",
    "    return False\n",
    "\n",
    "#check for number of trues\n",
    "result_list = []\n",
    "\n",
    "summ=0\n",
    "for key, var in var_list[1].items():\n",
    "    if var[0]==True:\n",
    "        result_list.append(key)\n",
    "        summ+=1\n",
    "print(summ)\n",
    "check_sudoku(variables)"
   ]
  },
  {
   "cell_type": "code",
   "execution_count": 193,
   "metadata": {},
   "outputs": [
    {
     "data": {
      "text/plain": [
       "[[2509, 0],\n",
       " [2148, 0],\n",
       " [1916, 0],\n",
       " [1719, 0],\n",
       " [1511, 0],\n",
       " [1511, 1],\n",
       " [1496, 1],\n",
       " [955, 1],\n",
       " [955, 2],\n",
       " [945, 2],\n",
       " [773, 2],\n",
       " [484, 2],\n",
       " [160, 2],\n",
       " [120, 2],\n",
       " [32, 2]]"
      ]
     },
     "execution_count": 193,
     "metadata": {},
     "output_type": "execute_result"
    }
   ],
   "source": [
    "metrics"
   ]
  },
  {
   "cell_type": "code",
   "execution_count": 181,
   "metadata": {},
   "outputs": [],
   "source": [
    "import matplotlib.pyplot as plt\n",
    "import pylab as pl"
   ]
  },
  {
   "cell_type": "code",
   "execution_count": 345,
   "metadata": {},
   "outputs": [
    {
     "data": {
      "image/png": "[encoded data removed]",
      "text/plain": [
       "<matplotlib.figure.Figure at 0x11f24bc50>"
      ]
     },
     "metadata": {},
     "output_type": "display_data"
    }
   ],
   "source": [
    "# visualize the sudoku\n",
    "\n",
    "# Make a 9x9 grid...\n",
    "nrows, ncols = 9,9\n",
    "sudoku_grid = np.zeros(nrows*ncols)\n",
    "\n",
    "im2 = [2,2,3,6,6,2,3,3,6,2,2,3,6,6,3,6,6,9,3,3,6,9,9,3,6,6,9,6,6,9,15,15,6,9,9,15,6,6,9,15,15]\n",
    "\n",
    "#sudoku_grid[::2] = np.random.random(41)\n",
    "sudoku_grid[::2] = im2\n",
    "\n",
    "sudoku_grid = sudoku_grid.reshape((nrows, ncols))\n",
    "plt.matshow(sudoku_grid)\n",
    "\n",
    "for result in result_list:\n",
    "    xyn = [int(d) for d in str(result)]\n",
    "    pl.text(xyn[0]-1, xyn[1]-1, str(xyn[2]), color=\"white\", fontsize=13)\n",
    "pl.show()"
   ]
  },
  {
   "cell_type": "code",
   "execution_count": 422,
   "metadata": {},
   "outputs": [],
   "source": [
    "#experimenting\n",
    "np.random.seed(103493)\n",
    "test_sudokus_list = sudoku_to_dimacs()\n",
    "\n",
    "\n",
    "for i in range(0,3):\n",
    "    t_list = []\n",
    "    list81 = []\n",
    "    metrics_list = []\n",
    "    for sudoku in test_sudokus_list:\n",
    "        clauses_rules, variables_rules = read_dimac() \n",
    "        clauses_example, variables_example = read_dimac(file_name = sudoku, is_txt = False)  \n",
    "        variables, clauses = merge(variables_rules,  variables_example, clauses_rules, clauses_example)\n",
    "        clauses, variables = remove_tautology(clauses, variables)\n",
    "        var_counter = Counter()\n",
    "        t, variables, clauses, metrics = dpll(clauses, variables, i , metrics = [])\n",
    "        t_list.append(t)\n",
    "        list81.append(check_sudoku(variables))\n",
    "        metrics_list.append(metrics)\n",
    "    for j, l in enumerate([t_list, list81, metrics_list ]):\n",
    "        np.save(\"heuristic_\"+str(i)+\"_metric\"+str(j)+\".npy\", l)\n",
    "# metrics are a list of tuples, where len of the list is number of splits, 0th element of the tuple is # of unsat and the 1st element is # of backtracks"
   ]
  },
  {
   "cell_type": "code",
   "execution_count": 389,
   "metadata": {},
   "outputs": [
    {
     "data": {
      "text/plain": [
       "1011"
      ]
     },
     "execution_count": 389,
     "metadata": {},
     "output_type": "execute_result"
    }
   ],
   "source": [
    "summ = 0\n",
    "for statement in list81:\n",
    "    if statement == True:\n",
    "\n",
    "        summ+=1\n",
    "\n",
    "summ"
   ]
  },
  {
   "cell_type": "code",
   "execution_count": 453,
   "metadata": {},
   "outputs": [],
   "source": [
    "def met_avg_std(metrics_list, is_stats = False):\n",
    "    num_backtracks = []\n",
    "    num_splits = []\n",
    "    empty=0\n",
    "    #indecis = []\n",
    "    \n",
    "    for i, metrics in enumerate(metrics_list):\n",
    "        if len(metrics)==0:\n",
    "            empty+=1\n",
    "            #indecis.append(i)\n",
    "            num_backtracks.append(0)\n",
    "            num_splits.append(0)\n",
    "            continue\n",
    "        num_backtracks.append(metrics[-1][1])\n",
    "        num_splits.append(len(metrics))\n",
    "    if is_stats:\n",
    "        mean_backtracks, std_backtracks = np.mean(num_backtracks), np.std(num_backtracks)\n",
    "        mean_splits, std_splits = np.mean(num_splits), np.std(num_splits)\n",
    "        return [mean_backtracks, std_backtracks], [mean_splits, std_splits]\n",
    "    \n",
    "    return num_backtracks, num_splits"
   ]
  },
  {
   "cell_type": "code",
   "execution_count": 423,
   "metadata": {},
   "outputs": [],
   "source": [
    "data=[[],[],[]]\n",
    "for i in range(0, 3):\n",
    "    for j, l in enumerate([t_list, list81, metrics_list ]):\n",
    "        data[i-1].append(np.load(\"heuristic_\"+str(i)+\"_metric\"+str(j)+\".npy\"))\n",
    "    "
   ]
  },
  {
   "cell_type": "code",
   "execution_count": 457,
   "metadata": {},
   "outputs": [
    {
     "name": "stdout",
     "output_type": "stream",
     "text": [
      "Heuristic 0 ([78.3620178041543, 242.6766164254947], [157.7883283877349, 485.57856086913665])\n",
      "Heuristic 1 ([2.1246290801186944, 3.5322866807158584], [5.19188921859545, 7.342865858937277])\n",
      "Heuristic 2 ([5.053412462908012, 8.552688607705695], [11.164193867457962, 17.41421659115567])\n",
      "Ttest_indResult(statistic=9.982855104253524, pvalue=1.9065674119013658e-22)\n",
      "Ttest_indResult(statistic=9.594407637124009, pvalue=6.341947670318127e-21)\n",
      "Ttest_indResult(statistic=10.05880289827062, pvalue=5.336873944758605e-23)\n"
     ]
    }
   ],
   "source": [
    "#metrics_list_random = np.load(\"metrics_random.npy\" )\n",
    "from scipy import stats\n",
    "backtracks_list, splits_list = [], []\n",
    "for i in range(3):\n",
    "    #met_avg(metrics_list)\n",
    "    print(\"Heuristic\", i,met_avg_std(data[i][2], is_stats = True))\n",
    "    backtrack, splits = met_avg_std(data[i][2])\n",
    "    backtracks_list.append(backtrack)\n",
    "    splits_list.append(splits)\n",
    "\n",
    "#difference between VSIDS and random\n",
    "print(stats.ttest_ind(backtracks_list[0],backtracks_list[1], equal_var = False))\n",
    "#difference between human and random\n",
    "print(stats.ttest_ind(backtracks_list[0],backtracks_list[2], equal_var = False))\n",
    "#difference between VSIDS and human\n",
    "print(stats.ttest_ind(backtracks_list[2],backtracks_list[1], equal_var = False))\n",
    "\n"
   ]
  }
 ],
 "metadata": {
  "kernelspec": {
   "display_name": "Python 3",
   "language": "python",
   "name": "python3"
  },
  "language_info": {
   "codemirror_mode": {
    "name": "ipython",
    "version": 3
   },
   "file_extension": ".py",
   "mimetype": "text/x-python",
   "name": "python",
   "nbconvert_exporter": "python",
   "pygments_lexer": "ipython3",
   "version": "3.6.0"
  }
 },
 "nbformat": 4,
 "nbformat_minor": 2
}
